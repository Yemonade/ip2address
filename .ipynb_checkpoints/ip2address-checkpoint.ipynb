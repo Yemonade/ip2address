{
 "cells": [
  {
   "cell_type": "code",
   "execution_count": null,
   "id": "99699ebe",
   "metadata": {},
   "outputs": [],
   "source": [
    "# !pip install geoip2"
   ]
  },
  {
   "cell_type": "code",
   "execution_count": 3,
   "id": "b2595065",
   "metadata": {},
   "outputs": [
    {
     "name": "stdout",
     "output_type": "stream",
     "text": [
      "[*] Target: 119.108.116.209 GeoLite2-Located \n",
      "  [+] Country_IsoCode        : CN\n",
      "  [+] Country_Name           : China\n",
      "  [+] Country_NameCN         : 中国\n",
      "  [+] Country_SpecificName   : Liaoning\n",
      "  [+] Country_SpecificIsoCode: LN\n",
      "  [+] City_Name              : Diaobingshancun\n",
      "  [+] Location_Latitude      : 42.4606\n",
      "  [+] Location_Longitude     : 123.5475\n"
     ]
    }
   ],
   "source": [
    "#!D:/Program Files/Python37/python\n",
    "import geoip2.database\n",
    "\n",
    "# This creates a Reader object. You should use the same object\n",
    "# across multiple requests as creation of it is expensive.\n",
    "reader = geoip2.database.Reader(\n",
    "    'ipInfo/GeoLite2-City.mmdb')\n",
    "\n",
    "def ip_print_AddrInfo(ip):\n",
    "    # Replace \"city\" with pthe method corresponding to the database\n",
    "    # that you are using, e.g., \"country\".\n",
    "    #-----------------------------------------------\n",
    "    # 载入指定IP相关数据\n",
    "    response = reader.city(ip)\n",
    "    #读取国家代码\n",
    "    Country_IsoCode = response.country.iso_code\n",
    "    #读取国家名称\n",
    "    Country_Name = response.country.name\n",
    "    #读取国家名称(中文显示)\n",
    "    Country_NameCN = response.country.names['zh-CN']\n",
    "    #读取州(国外)/省(国内)名称\n",
    "    Country_SpecificName = response.subdivisions.most_specific.name\n",
    "    #读取州(国外)/省(国内)代码\n",
    "    Country_SpecificIsoCode = response.subdivisions.most_specific.iso_code\n",
    "    #读取城市名称\n",
    "    City_Name = response.city.name\n",
    "    #读取邮政编码\n",
    "    City_PostalCode = response.postal.code\n",
    "    #获取纬度\n",
    "    Location_Latitude = response.location.latitude\n",
    "    #获取经度\n",
    "    Location_Longitude = response.location.longitude\n",
    "    #------------------------------------------------打印\n",
    "    print('[*] Target: ' + ip + ' GeoLite2-Located ')\n",
    "    print('  [+] Country_IsoCode        : ' + Country_IsoCode)\n",
    "    print('  [+] Country_Name           : ' + Country_Name)\n",
    "    print('  [+] Country_NameCN         : ' + Country_NameCN)\n",
    "    print('  [+] Country_SpecificName   : ' + Country_SpecificName)\n",
    "    print('  [+] Country_SpecificIsoCode: ' + Country_SpecificIsoCode)\n",
    "    print('  [+] City_Name              : ' + City_Name)\n",
    "    if City_PostalCode != None:\n",
    "        print('  [+] City_PostalCode        : ' + City_PostalCode)\n",
    "    print('  [+] Location_Latitude      : ' + str(Location_Latitude))\n",
    "    print('  [+] Location_Longitude     : ' + str(Location_Longitude))\n",
    "\n",
    "ip = '119.108.116.209'\n",
    "ip_print_AddrInfo(ip)"
   ]
  },
  {
   "cell_type": "code",
   "execution_count": null,
   "id": "914aab0e",
   "metadata": {},
   "outputs": [],
   "source": []
  }
 ],
 "metadata": {
  "kernelspec": {
   "display_name": "Python 3",
   "language": "python",
   "name": "python3"
  },
  "language_info": {
   "codemirror_mode": {
    "name": "ipython",
    "version": 3
   },
   "file_extension": ".py",
   "mimetype": "text/x-python",
   "name": "python",
   "nbconvert_exporter": "python",
   "pygments_lexer": "ipython3",
   "version": "3.8.8"
  }
 },
 "nbformat": 4,
 "nbformat_minor": 5
}
